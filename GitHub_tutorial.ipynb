{
 "cells": [
  {
   "cell_type": "markdown",
   "id": "7aef2335",
   "metadata": {},
   "source": [
    "### Github是一個基於　Git　的程式碼託管平臺，可以放置自己原始碼 (Source Code) 的網路空間。\n",
    "### Git 是什麼？是一種程式版本控制的工具。¶"
   ]
  },
  {
   "cell_type": "markdown",
   "id": "c9021730",
   "metadata": {},
   "source": [
    "# 開始使用 GitHub"
   ]
  },
  {
   "cell_type": "markdown",
   "id": "77d5f457",
   "metadata": {},
   "source": [
    "* 1.註冊GitHub帳號 \n",
    "\n",
    "  https://github.com/"
   ]
  },
  {
   "cell_type": "markdown",
   "id": "bfdbc67b",
   "metadata": {},
   "source": [
    "* 2.在GitHub 網站建立倉庫 Create a new repository \n",
    "\n",
    "  https://kingofamani.gitbooks.io/git-teach/content/chapter_5/github.html"
   ]
  },
  {
   "cell_type": "markdown",
   "id": "3cf294b4",
   "metadata": {},
   "source": [
    "* 3.在自己電腦上下載並安裝 git \n",
    "\n",
    "    https://gitforwindows.org/  \n",
    "\n",
    "    Git 安裝說明: \n",
    "   \n",
    "    https://www.itread01.com/content/1549725138.html\n",
    "\n"
   ]
  },
  {
   "cell_type": "markdown",
   "id": "927fc16a",
   "metadata": {},
   "source": [
    "* 4.安裝 Git 後，首先應該做的事是在自己電腦上(Git CMD) 設定使用者名稱及電子郵件 \n",
    "\n",
    "> git config --global user.name \"ywli6\" \\\n",
    "> git config --global user.email \"liyenwei@gmail.com\"\n",
    "\n",
    "  可以輸入以下指令確認是否輸入成功: \n",
    "\n",
    "> git config --global user.name \\\n",
    "> git config --global user.email\n",
    "\n"
   ]
  },
  {
   "cell_type": "markdown",
   "id": "1969fa02",
   "metadata": {},
   "source": [
    "<img width=\"900\" src=\"images/GitHub_tutorial_pic1.png\" >"
   ]
  },
  {
   "cell_type": "markdown",
   "id": "666023dc",
   "metadata": {},
   "source": [
    "* 5.Clone Repository \n",
    "\n",
    "   在本地電腦上建立一個倉庫Repository的拷貝版本：\n",
    "   \n",
    "   a. cd 至本地電腦想放Repository的路徑 (假設是 Desktop(桌面))\n",
    "   \n",
    "   > cd Desktop\n",
    "   \n",
    "   b. 在 GitHub 網頁內，在 Code 中，點擊「clone or download」將裡面的網址\n",
    "   \n",
    "\n",
    "> git clone https://github.com/ywli6/Statistics.git"
   ]
  },
  {
   "cell_type": "markdown",
   "id": "decdc5aa",
   "metadata": {},
   "source": [
    "<img width=\"800\" src=\"images/GitHub_tutorial_pic2.png\" >"
   ]
  },
  {
   "cell_type": "markdown",
   "id": "6b0a19d8",
   "metadata": {},
   "source": [
    "<img width=\"800\" src=\"images/GitHub_tutorial_pic3.png\" >"
   ]
  },
  {
   "cell_type": "markdown",
   "id": "b68a75f8",
   "metadata": {},
   "source": [
    "<img width=\"700\" src=\"images/GitHub_tutorial_pic4.png\" >"
   ]
  },
  {
   "cell_type": "markdown",
   "id": "07c912b4",
   "metadata": {},
   "source": [
    "# 本地端電腦與遠端 GitHub 資料夾版本管理同步"
   ]
  },
  {
   "cell_type": "markdown",
   "id": "0093d836",
   "metadata": {},
   "source": [
    "## 將本地電腦儲存庫之程式上傳至 GitHub"
   ]
  },
  {
   "cell_type": "markdown",
   "id": "25201d2b",
   "metadata": {},
   "source": [
    "* 1.將 file 提交到本地 Git repository 裡\n",
    "\n",
    "將要上傳的程式放入本地端倉庫中，並將檔案放入 git 中，\n",
    "這個流程需要兩道指令：git add 與 git commit\n",
    "\n",
    "#### git add\n",
    "\n",
    "> git add Install_Jupyter_Notebook.html\n",
    "\n",
    "若要同時提交許多檔案，可以用\n",
    "\n",
    "> git add .\n",
    "\n",
    "git add 後，此時檔案已在 staging area，準備送進 repository。\n",
    "\n",
    "#### git commit\n",
    "\n",
    "> git commit -m \"edit Install_Jupyter_Notebook\"\n",
    "\n",
    "git add 是把要送出的檔案放到暫存區 ( Stage )中，\n",
    "\n",
    "執行 git commit 就可以把暫存區 ( Stage ) 裡所有修改的內容送到目前的分支上。\n",
    "\n",
    "git commit -m \"xxxxx\" : -m 後面輸入的\"xxxxx\" 內容是本次修改 ( 送出 ) 的說明，以容易理解此次修改的內容為上，方便以後追蹤。\n",
    "\n",
    "-m 是 --message 的縮寫，可以為這筆 commit 附上這一筆 commit 的說明。\n",
    "\n"
   ]
  },
  {
   "cell_type": "markdown",
   "id": "7836b1d0",
   "metadata": {},
   "source": [
    "<img width=\"600\" src=\"images/GitHub_tutorial_pic5.png\" >"
   ]
  },
  {
   "cell_type": "markdown",
   "id": "daeb197b",
   "metadata": {},
   "source": [
    "* 2.從本地端傳送(push)至遠端\n",
    "\n",
    "   使用 git push 把本地 repository 檔案「推」到遠端 GitHub 中\n",
    "   \n",
    "   > git push "
   ]
  },
  {
   "cell_type": "markdown",
   "id": "6bbb3578",
   "metadata": {},
   "source": [
    "<img width=\"800\" src=\"images/GitHub_tutorial_pic6.png\" >"
   ]
  },
  {
   "cell_type": "markdown",
   "id": "2d1da947",
   "metadata": {},
   "source": [
    "## 將遠端檔案由 GitHub 拉回本機更新\n",
    "\n",
    "> git pull"
   ]
  },
  {
   "cell_type": "markdown",
   "id": "cb98e20f",
   "metadata": {},
   "source": [
    "## 在本地端刪除檔案\n",
    "\n",
    "   直接使用 git rm 指令\n",
    "\n",
    "> git rm Install_Jupyter_Notebook.html\n",
    "\n",
    "   檢查狀況\n",
    "   \n",
    "> git status  "
   ]
  },
  {
   "cell_type": "markdown",
   "id": "796601cb",
   "metadata": {},
   "source": [
    "### 刪除本地端檔案後與 GitHub 同步\n",
    "\n",
    "   git commit file -m \"內容任意寫\"\n",
    "\n",
    " > git commit -i Install_Jupyter_Notebook.html -m \"delete file\"\n",
    " \n",
    "   輸入 git push 與 GitHub 同步\n",
    "   \n",
    " > git push\n",
    " \n",
    " GitHub 中 Install_Jupyter_Notebook.html 檔案即消失\n",
    " "
   ]
  },
  {
   "cell_type": "markdown",
   "id": "7d428fcb",
   "metadata": {},
   "source": [
    "## 參考網站:\n",
    "\n",
    "Git-Tutorials 基本使用教學:\n",
    "https://github.com/twtrubiks/Git-Tutorials\n",
    "\n",
    "GitHub建立遠端儲存庫:\n",
    "https://kingofamani.gitbooks.io/git-teach/content/chapter_5/github.html\n",
    "\n",
    "[Git][教學] 02. 開始使用 GitHub， 註冊與建立repo:\n",
    "https://progressbar.tw/posts/3\n",
    "\n",
    "Git與GitHub介紹，軟體版本控制基本教學:\n",
    "https://tw.alphacamp.co/blog/git-github-version-control-guide\n",
    "\n",
    "Git 與 GitHub 起手式:\n",
    "https://medium.com/wenchin-rolls-around/git-%E8%88%87-github-%E8%B5%B7%E6%89%8B%E5%BC%8F-966e18da84f2\n",
    "\n",
    "Github 簡明教程:\n",
    "https://codertw.com/%E4%BC%BA%E6%9C%8D%E5%99%A8/142825/\n",
    "\n",
    "使用 GitHub 免費製作個人網站:\n",
    "https://gitbook.tw/chapters/github/using-github-pages.html\n"
   ]
  }
 ],
 "metadata": {
  "kernelspec": {
   "display_name": "R",
   "language": "R",
   "name": "ir"
  },
  "language_info": {
   "codemirror_mode": "r",
   "file_extension": ".r",
   "mimetype": "text/x-r-source",
   "name": "R",
   "pygments_lexer": "r",
   "version": "3.6.1"
  }
 },
 "nbformat": 4,
 "nbformat_minor": 5
}
