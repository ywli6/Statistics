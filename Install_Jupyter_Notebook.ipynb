{
 "cells": [
  {
   "cell_type": "markdown",
   "id": "f1447b89",
   "metadata": {},
   "source": [
    "## 安裝前的準備：Python \n",
    "開始安裝 Jupyter Notebook 前，需先安裝 Python (Python 3.3及更高版本)。Python 的安裝教學，可以參考Anaconda 3 安裝教學及說明。"
   ]
  },
  {
   "cell_type": "markdown",
   "id": "4ed8f81e",
   "metadata": {},
   "source": [
    "# Anaconda 3 安裝教學及說明"
   ]
  },
  {
   "cell_type": "markdown",
   "id": "ee773b8e",
   "metadata": {},
   "source": [
    "https://medium.com/ai-for-k12/anaconda-3-%E5%AE%89%E8%A3%9D%E6%95%99%E5%AD%B8%E5%8F%8A%E8%AA%AA%E6%98%8E-3542d8e6a224"
   ]
  },
  {
   "cell_type": "markdown",
   "id": "41f4d7df",
   "metadata": {},
   "source": [
    "# Jupyter Notebook 使用說明"
   ]
  },
  {
   "cell_type": "markdown",
   "id": "71d9917b",
   "metadata": {},
   "source": [
    "https://medium.com/ai-for-k12/jupyter-notebook-%E5%AE%8C%E6%95%B4%E4%BB%8B%E7%B4%B9-%E5%AE%89%E8%A3%9D%E5%8F%8A%E4%BD%BF%E7%94%A8%E8%AA%AA%E6%98%8E-846b5432f044"
   ]
  },
  {
   "cell_type": "markdown",
   "id": "cfc70394",
   "metadata": {},
   "source": [
    "## Jupyter Notebook 上安裝 R "
   ]
  },
  {
   "cell_type": "markdown",
   "id": "7dda4952",
   "metadata": {},
   "source": [
    "<img  src=\"images/Install_Jupyter_Notebook_pic1.png\" >"
   ]
  },
  {
   "cell_type": "markdown",
   "id": "8fcc30dd",
   "metadata": {},
   "source": [
    "# Jupyter Notebook 基本操作"
   ]
  },
  {
   "cell_type": "markdown",
   "id": "0c991ce3",
   "metadata": {},
   "source": [
    "https://chienhung1519.medium.com/jupyter-notebook-%E5%9F%BA%E6%9C%AC%E6%93%8D%E4%BD%9C-6a1d624e2255"
   ]
  },
  {
   "cell_type": "markdown",
   "id": "f02ddb9d",
   "metadata": {},
   "source": [
    "# 將Jupyter Notebook文件(ipynb檔) 轉換為 html、md、pdf 等格式輸出"
   ]
  },
  {
   "cell_type": "markdown",
   "id": "e928117d",
   "metadata": {},
   "source": [
    "> ### 如果要將ipynb檔轉成其它檔案類型，最簡單的方法是直接在 Jupyter Notebook 內下載成其它類型的檔案。 (如下圖) \n"
   ]
  },
  {
   "cell_type": "markdown",
   "id": "f11718ed",
   "metadata": {},
   "source": [
    "### ipynb轉為html格式\n",
    "\n",
    " >  選擇 File-> Download as -> HTML(.html)\n",
    "  "
   ]
  },
  {
   "cell_type": "markdown",
   "id": "f15a2eea",
   "metadata": {},
   "source": [
    "<img  src=\"images/Install_Jupyter_Notebook_pic2.png\" >"
   ]
  },
  {
   "cell_type": "markdown",
   "id": "ee79e573",
   "metadata": {},
   "source": [
    "> ### 使用nbconvert將大量ipynb檔轉成html、PDF、 markdown \n",
    "https://medium.com/@lin7lic/%E4%BD%BF%E7%94%A8nbconvert%E5%B0%87%E5%A4%A7%E9%87%8Fipynb%E6%AA%94%E8%BD%89%E6%88%90html-pdf-markdown-b147c9a3a5d3"
   ]
  },
  {
   "cell_type": "markdown",
   "id": "3903d866",
   "metadata": {},
   "source": [
    "> ### 如何將ipynb轉換為html，md，pdf等格式\n",
    "https://codertw.com/%E7%A8%8B%E5%BC%8F%E8%AA%9E%E8%A8%80/452713/"
   ]
  },
  {
   "cell_type": "markdown",
   "id": "c1a692ba",
   "metadata": {},
   "source": [
    "### 參考網站:\n",
    "\n",
    "* 將 Jupyter Notebook 整理成一本書\n",
    "\n",
    "https://yongfu.name/2019/05/11/jupyter-book.html\n",
    "\n"
   ]
  }
 ],
 "metadata": {
  "kernelspec": {
   "display_name": "R",
   "language": "R",
   "name": "ir"
  },
  "language_info": {
   "codemirror_mode": "r",
   "file_extension": ".r",
   "mimetype": "text/x-r-source",
   "name": "R",
   "pygments_lexer": "r",
   "version": "3.6.1"
  }
 },
 "nbformat": 4,
 "nbformat_minor": 5
}
